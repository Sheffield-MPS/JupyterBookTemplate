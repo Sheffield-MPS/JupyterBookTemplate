{
 "cells": [
  {
   "cell_type": "markdown",
   "id": "08a959c0-6995-4c5f-b2e9-31e4af768637",
   "metadata": {},
   "source": [
    "# Module Information\n",
    "Welcome to MPS101: How to Build a Jupyter Book!\n",
    "\n",
    "This will be the landing page of your book - the first page someone will see when they head to sheffield-mps.github.io/ModuleTitle; in this case [https://sheffield-mps.github.io/JupyterBookTemplate](https://sheffield-mps.github.io/JupyterBookTemplate). As such, it's a good place to put general information about the module, such as a description of what's covered, how it is taught (lectures, workshops, problems classes etc), and how it is assessed.\n",
    "\n",
    "Jupyter Books are written in [MyST markdown](https://myst-parser.readthedocs.io/en/latest/index.html), meaning things like headings, hyperlinks, and equations are built using a certain syntax. This Jupyter Book Template makes use of the most common types of markdown syntax, so to see examples of how \"something is done\" in markdown, then download the [Jupyter Notebook versions](https://github.com/sheffield-mps/JupyterBookTemplate) of these pages (the .ipynb files) to check out the markdown text.\n",
    "\n",
    "You can, for example, see how the following heading is created:\n",
    "\n",
    "## This is a heading\n",
    "And how the following sub-heading is created...\n",
    "\n",
    "### This is a subheading\n",
    "And check out how the hyperlinks in the second and third paragraphs were made by using a combinations of square and round brackets.\n",
    "\n",
    "I should add - I'm by no means an expert on MyST markdown. This Book pretty much demonstrates all my knowledge, and even most of _that_ was found by googling \"how to do ... in MyST markdown\"! "
   ]
  }
 ],
 "metadata": {
  "kernelspec": {
   "display_name": "Python 3 (ipykernel)",
   "language": "python",
   "name": "python3"
  },
  "language_info": {
   "codemirror_mode": {
    "name": "ipython",
    "version": 3
   },
   "file_extension": ".py",
   "mimetype": "text/x-python",
   "name": "python",
   "nbconvert_exporter": "python",
   "pygments_lexer": "ipython3",
   "version": "3.11.9"
  }
 },
 "nbformat": 4,
 "nbformat_minor": 5
}
